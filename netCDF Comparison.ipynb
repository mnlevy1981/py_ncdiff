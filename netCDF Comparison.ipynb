{
 "cells": [
  {
   "cell_type": "code",
   "execution_count": 1,
   "metadata": {
    "collapsed": false
   },
   "outputs": [],
   "source": [
    "# Import necessary modules\n",
    "import py_ncdiff\n",
    "import os\n",
    "\n",
    "# Setup logging so info / debug -> stdout instead of stderr\n",
    "py_ncdiff.init_logging()"
   ]
  },
  {
   "cell_type": "code",
   "execution_count": 2,
   "metadata": {
    "collapsed": false
   },
   "outputs": [
    {
     "name": "stdout",
     "output_type": "stream",
     "text": [
      "Comparing /Users/mlevy/MARBL_data/POP_hist.nc and /Users/mlevy/MARBL_data/POP_hist.nc\n",
      "First file modified:  Tue Mar 20 13:55:00 2018\n",
      "Second file modified: Tue Mar 20 13:55:00 2018\n",
      "---\n"
     ]
    },
    {
     "name": "stderr",
     "output_type": "stream",
     "text": [
      "ERROR: Can not open /Users/mlevy/MARBL_data/POP_hist2.nc\n"
     ]
    },
    {
     "ename": "SystemExit",
     "evalue": "1",
     "output_type": "error",
     "traceback": [
      "An exception has occurred, use %tb to see the full traceback.\n",
      "\u001b[0;31mSystemExit\u001b[0m\u001b[0;31m:\u001b[0m 1\n"
     ]
    },
    {
     "name": "stderr",
     "output_type": "stream",
     "text": [
      "/Users/mlevy/miniconda3/envs/jupyter/lib/python2.7/site-packages/IPython/core/interactiveshell.py:2889: UserWarning: To exit: use 'exit', 'quit', or Ctrl-D.\n",
      "  warn(\"To exit: use 'exit', 'quit', or Ctrl-D.\", stacklevel=1)\n"
     ]
    }
   ],
   "source": [
    "file1 = os.path.expanduser('~/')+'MARBL_data/POP_hist.nc'\n",
    "file2 = file1\n",
    "bad_file = os.path.expanduser('~/')+'MARBL_data/POP_hist2.nc'\n",
    "\n",
    "good_test = py_ncdiff.netCDF_comp_class(file1, file2)\n",
    "print(\"---\")\n",
    "bad_test = py_ncdiff.netCDF_comp_class(file1, bad_file)"
   ]
  }
 ],
 "metadata": {
  "kernelspec": {
   "display_name": "Python 2",
   "language": "python",
   "name": "python2"
  },
  "language_info": {
   "codemirror_mode": {
    "name": "ipython",
    "version": 2
   },
   "file_extension": ".py",
   "mimetype": "text/x-python",
   "name": "python",
   "nbconvert_exporter": "python",
   "pygments_lexer": "ipython2",
   "version": "2.7.13"
  }
 },
 "nbformat": 4,
 "nbformat_minor": 2
}
